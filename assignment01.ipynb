{
 "cells": [
  {
   "cell_type": "code",
   "execution_count": 1,
   "id": "f6457061",
   "metadata": {},
   "outputs": [],
   "source": [
    "import pandas as pd\n",
    "import statistics"
   ]
  },
  {
   "cell_type": "code",
   "execution_count": 5,
   "id": "20b00160",
   "metadata": {},
   "outputs": [],
   "source": [
    "dataset = pd.read_csv(\"Iris.csv\")"
   ]
  },
  {
   "cell_type": "code",
   "execution_count": 3,
   "id": "f771828d",
   "metadata": {},
   "outputs": [
    {
     "data": {
      "text/html": [
       "<div>\n",
       "<style scoped>\n",
       "    .dataframe tbody tr th:only-of-type {\n",
       "        vertical-align: middle;\n",
       "    }\n",
       "\n",
       "    .dataframe tbody tr th {\n",
       "        vertical-align: top;\n",
       "    }\n",
       "\n",
       "    .dataframe thead th {\n",
       "        text-align: right;\n",
       "    }\n",
       "</style>\n",
       "<table border=\"1\" class=\"dataframe\">\n",
       "  <thead>\n",
       "    <tr style=\"text-align: right;\">\n",
       "      <th></th>\n",
       "      <th>Id</th>\n",
       "      <th>SepalLengthCm</th>\n",
       "      <th>SepalWidthCm</th>\n",
       "      <th>PetalLengthCm</th>\n",
       "      <th>PetalWidthCm</th>\n",
       "      <th>Species</th>\n",
       "    </tr>\n",
       "  </thead>\n",
       "  <tbody>\n",
       "    <tr>\n",
       "      <th>0</th>\n",
       "      <td>1</td>\n",
       "      <td>5.1</td>\n",
       "      <td>3.5</td>\n",
       "      <td>1.4</td>\n",
       "      <td>0.2</td>\n",
       "      <td>Iris-setosa</td>\n",
       "    </tr>\n",
       "    <tr>\n",
       "      <th>1</th>\n",
       "      <td>2</td>\n",
       "      <td>4.9</td>\n",
       "      <td>3.0</td>\n",
       "      <td>1.4</td>\n",
       "      <td>0.2</td>\n",
       "      <td>Iris-setosa</td>\n",
       "    </tr>\n",
       "    <tr>\n",
       "      <th>2</th>\n",
       "      <td>3</td>\n",
       "      <td>4.7</td>\n",
       "      <td>3.2</td>\n",
       "      <td>1.3</td>\n",
       "      <td>0.2</td>\n",
       "      <td>Iris-setosa</td>\n",
       "    </tr>\n",
       "    <tr>\n",
       "      <th>3</th>\n",
       "      <td>4</td>\n",
       "      <td>4.6</td>\n",
       "      <td>3.1</td>\n",
       "      <td>1.5</td>\n",
       "      <td>0.2</td>\n",
       "      <td>Iris-setosa</td>\n",
       "    </tr>\n",
       "    <tr>\n",
       "      <th>4</th>\n",
       "      <td>5</td>\n",
       "      <td>5.0</td>\n",
       "      <td>3.6</td>\n",
       "      <td>1.4</td>\n",
       "      <td>0.2</td>\n",
       "      <td>Iris-setosa</td>\n",
       "    </tr>\n",
       "  </tbody>\n",
       "</table>\n",
       "</div>"
      ],
      "text/plain": [
       "   Id  SepalLengthCm  SepalWidthCm  PetalLengthCm  PetalWidthCm      Species\n",
       "0   1            5.1           3.5            1.4           0.2  Iris-setosa\n",
       "1   2            4.9           3.0            1.4           0.2  Iris-setosa\n",
       "2   3            4.7           3.2            1.3           0.2  Iris-setosa\n",
       "3   4            4.6           3.1            1.5           0.2  Iris-setosa\n",
       "4   5            5.0           3.6            1.4           0.2  Iris-setosa"
      ]
     },
     "execution_count": 3,
     "metadata": {},
     "output_type": "execute_result"
    }
   ],
   "source": [
    "dataset.head()"
   ]
  },
  {
   "cell_type": "code",
   "execution_count": 6,
   "id": "78d1857a",
   "metadata": {},
   "outputs": [],
   "source": [
    "column = dataset['SepalLengthCm']"
   ]
  },
  {
   "cell_type": "code",
   "execution_count": 8,
   "id": "e2c3c4ad",
   "metadata": {},
   "outputs": [],
   "source": [
    "mean_with_library = column.mean()\n",
    "median_with_library = column.median()\n",
    "mode_with_library = column.mode().values[0]"
   ]
  },
  {
   "cell_type": "code",
   "execution_count": 9,
   "id": "5da360a9",
   "metadata": {},
   "outputs": [],
   "source": [
    "variance_with_library = column.var()\n",
    "standard_deviation_with_library = column.std()"
   ]
  },
  {
   "cell_type": "code",
   "execution_count": 10,
   "id": "3db9772a",
   "metadata": {},
   "outputs": [],
   "source": [
    "mean_without_library = sum(column) / len(column)"
   ]
  },
  {
   "cell_type": "code",
   "execution_count": 12,
   "id": "eefbf511",
   "metadata": {},
   "outputs": [],
   "source": [
    "sorted_column = sorted(column)\n",
    "n = len(sorted_column)\n",
    "if n % 2 == 0:\n",
    "    mid1 = sorted_column[n // 2]\n",
    "    mid2 = sorted_column[n // 2 - 1]\n",
    "    median_without_library = (mid1 + mid2) / 2\n",
    "else:\n",
    "    median_without_library = sorted_column[n // 2]\n",
    "\n",
    "counts = {}\n",
    "for value in column:\n",
    "    if value in counts:\n",
    "        counts[value] += 1\n",
    "    else:\n",
    "        counts[value] = 1"
   ]
  },
  {
   "cell_type": "code",
   "execution_count": 13,
   "id": "f3c71e5c",
   "metadata": {},
   "outputs": [],
   "source": [
    "max_count = max(counts.values())\n",
    "modes_without_library = [value for value, count in counts.items() if count == max_count]\n",
    "mode_without_library = modes_without_library[0]"
   ]
  },
  {
   "cell_type": "code",
   "execution_count": 14,
   "id": "a1f9036f",
   "metadata": {},
   "outputs": [],
   "source": [
    "squared_diffs = [(value - mean_without_library) ** 2 for value in column]\n",
    "variance_without_library = sum(squared_diffs) / len(column)\n",
    "standard_deviation_without_library = variance_without_library ** 0.5"
   ]
  },
  {
   "cell_type": "code",
   "execution_count": 15,
   "id": "4dca7b98",
   "metadata": {},
   "outputs": [
    {
     "name": "stdout",
     "output_type": "stream",
     "text": [
      "Mean (with library): 5.843333333333334\n",
      "Median (with library): 5.8\n",
      "Mode (with library): 5.0\n",
      "Variance (with library): 0.6856935123042505\n",
      "Standard Deviation (with library): 0.8280661279778629\n"
     ]
    }
   ],
   "source": [
    "print(\"Mean (with library):\", mean_with_library)\n",
    "print(\"Median (with library):\", median_with_library)\n",
    "print(\"Mode (with library):\", mode_with_library)\n",
    "print(\"Variance (with library):\", variance_with_library)\n",
    "print(\"Standard Deviation (with library):\", standard_deviation_with_library)"
   ]
  },
  {
   "cell_type": "code",
   "execution_count": 16,
   "id": "96c38d71",
   "metadata": {},
   "outputs": [
    {
     "name": "stdout",
     "output_type": "stream",
     "text": [
      "Mean (without library): 5.843333333333335\n",
      "Median (without library): 5.8\n",
      "Mode (without library): 5.0\n",
      "Variance (without library): 0.6811222222222222\n",
      "Standard Deviation (without library): 0.8253012917851409\n"
     ]
    }
   ],
   "source": [
    "print(\"Mean (without library):\", mean_without_library)\n",
    "print(\"Median (without library):\", median_without_library)\n",
    "print(\"Mode (without library):\", mode_without_library)\n",
    "print(\"Variance (without library):\", variance_without_library)\n",
    "print(\"Standard Deviation (without library):\", standard_deviation_without_library)"
   ]
  },
  {
   "cell_type": "code",
   "execution_count": null,
   "id": "9ba42cca",
   "metadata": {},
   "outputs": [],
   "source": []
  }
 ],
 "metadata": {
  "kernelspec": {
   "display_name": "Python 3 (ipykernel)",
   "language": "python",
   "name": "python3"
  },
  "language_info": {
   "codemirror_mode": {
    "name": "ipython",
    "version": 3
   },
   "file_extension": ".py",
   "mimetype": "text/x-python",
   "name": "python",
   "nbconvert_exporter": "python",
   "pygments_lexer": "ipython3",
   "version": "3.10.9"
  }
 },
 "nbformat": 4,
 "nbformat_minor": 5
}
